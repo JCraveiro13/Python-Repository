{
 "cells": [
  {
   "cell_type": "markdown",
   "id": "f82dfce8",
   "metadata": {},
   "source": [
    "# Biodiversity in National Parks"
   ]
  },
  {
   "cell_type": "code",
   "execution_count": 4,
   "id": "a574fb3c",
   "metadata": {},
   "outputs": [],
   "source": [
    "import pandas as pd\n",
    "import matplotlib.pyplot as plt\n",
    "from scipy import stats\n",
    "import seaborn as sns\n",
    "import numpy as np\n",
    "import csv\n",
    "import statsmodels.api as sm\n",
    "import math\n",
    "import statsmodels"
   ]
  },
  {
   "cell_type": "markdown",
   "id": "682423fd",
   "metadata": {},
   "source": [
    "## Introduction\n",
    "\n",
    "The goal of the current project is to analyse the biodiversity of the United States of America National Parks, using data from the National Parks Service.\n",
    "\n",
    "The project will scope, clean, prepare, analyse and visualise data, in an attempt to explain the findings made by the analysis."
   ]
  },
  {
   "cell_type": "markdown",
   "id": "a0ad2cdf",
   "metadata": {},
   "source": [
    "### Project Goals\n",
    "\n",
    "The main goal of this project is to analyse the biodiversity of the National Parks. Because the main concern of the National Parks is to understand which species are at-risk, so that they can take action to protect these species, the goals of the project will be related to this. These will be:\n",
    "\n",
    "- What is the distribution of conservation status for species?\n",
    "- Are certain types of species more likely to be endangered?\n",
    "- Are there differences between species and their conservation status significant?\n",
    "\n",
    "These three questions need to be answered in order for the National Parks Service to be able to identify the more at-risk species and take action in order to protect them. "
   ]
  },
  {
   "cell_type": "markdown",
   "id": "5a2bc91d",
   "metadata": {},
   "source": [
    "### Data\n",
    "\n",
    "The data for this project was provided by Codecademy.com and is a fictional dataset, based on real data. The data is divided into two dataset - 'species.csv' and 'parks.csv'. These have information on the species and information on observations of species in the parks, respectively."
   ]
  },
  {
   "cell_type": "code",
   "execution_count": 7,
   "id": "dbf460c2",
   "metadata": {},
   "outputs": [],
   "source": [
    "df_observations = pd.read_csv('observations.csv')\n",
    "df_species = pd.read_csv('species_info.csv')"
   ]
  },
  {
   "cell_type": "code",
   "execution_count": null,
   "id": "6a193657",
   "metadata": {},
   "outputs": [],
   "source": [
    "# observing the data in each dataset\n",
    "print(df_observations.head())\n",
    "print(df_species.head())\n",
    "\n",
    "# observing the columns each dataset has\n",
    "print(df_observations.columns)\n",
    "print(df_species.columns)\n",
    "\n",
    "# observing the shape of the data\n",
    "print(df_observations.shape)\n",
    "print(df_species.shape)"
   ]
  },
  {
   "cell_type": "markdown",
   "id": "8fc5529e",
   "metadata": {},
   "source": [
    "The two dataframes are composed of:\n",
    "\n",
    "- Species - **category** (The category of taxonomy for each species), **scientific_name** (The species scientific name), **common_names** (The names commonly used for this species), **conservation_status** (The species conservation status)\n",
    "- Observations = **scientific_name** (Same as above), **park_name** (Name of the park the observation occured), **observations** (Number of observations made in the last 7 days)"
   ]
  },
  {
   "cell_type": "markdown",
   "id": "d6c547a2",
   "metadata": {},
   "source": [
    "#### Data Exploration\n",
    "\n",
    "Species.csv Dataset exploration"
   ]
  },
  {
   "cell_type": "code",
   "execution_count": 8,
   "id": "33b3fc11",
   "metadata": {},
   "outputs": [
    {
     "name": "stdout",
     "output_type": "stream",
     "text": [
      "Number of unique species: 5541\n",
      "There are 7 different categories of beings in the forests.\n",
      "Their names are:['Mammal' 'Bird' 'Reptile' 'Amphibian' 'Fish' 'Vascular Plant'\n",
      " 'Nonvascular Plant']\n",
      "category\n",
      "Amphibian              80\n",
      "Bird                  521\n",
      "Fish                  127\n",
      "Mammal                214\n",
      "Nonvascular Plant     333\n",
      "Reptile                79\n",
      "Vascular Plant       4470\n",
      "dtype: int64\n",
      "There are 4 different possible status a species is in, these are: [nan 'Species of Concern' 'Endangered' 'Threatened' 'In Recovery']\n",
      "conservation_status\n",
      "Endangered             16\n",
      "In Recovery             4\n",
      "Species of Concern    161\n",
      "Threatened             10\n",
      "dtype: int64\n",
      "There are 5633 missing values in the conservation status columns.\n"
     ]
    }
   ],
   "source": [
    "# let's start with finding out many unique species are in the dataset\n",
    "print(f\"Number of unique species: {df_species.scientific_name.nunique()}\")\n",
    "\n",
    "# next, let's see how many different categories there are, and what their names are\n",
    "print(f\"There are {df_species.category.nunique()} different categories of beings in the forests.\")\n",
    "print(f\"Their names are:{df_species.category.unique()}\")\n",
    "\n",
    "# let's dig deeper and see how many species of each category there are\n",
    "print(df_species.groupby(\"category\").size())\n",
    "\n",
    "\n",
    "# now let's explore the conservation_status variable, in the same way we did the category one\n",
    "print(f\"There are 4 different possible status a species is in, these are: {df_species.conservation_status.unique()}\")\n",
    "\n",
    "# let's see how many species correspond to each status\n",
    "print(df_species.groupby(\"conservation_status\").size())\n",
    "\n",
    "# it seems like a lot of species are missing in this count. Let's see how many values are missing\n",
    "print(f\"There are {df_species.conservation_status.isna().sum()} missing values in the conservation status columns.\")"
   ]
  },
  {
   "cell_type": "code",
   "execution_count": 9,
   "id": "d3fabed7",
   "metadata": {},
   "outputs": [
    {
     "name": "stdout",
     "output_type": "stream",
     "text": [
      "There are 4 different parks in this dataset.\n",
      "These are: ['Great Smoky Mountains National Park' 'Yosemite National Park'\n",
      " 'Bryce National Park' 'Yellowstone National Park']\n",
      "There were a total of 3314739 observations recorded in the last 7 days.\n",
      "                                     observations\n",
      "park_name                                        \n",
      "Bryce National Park                        576025\n",
      "Great Smoky Mountains National Park        431820\n",
      "Yellowstone National Park                 1443562\n",
      "Yosemite National Park                     863332\n"
     ]
    }
   ],
   "source": [
    "# checking number of parks in the dataset\n",
    "print(f\"There are {df_observations.park_name.nunique()} different parks in this dataset.\")\n",
    "print(f\"These are: {df_observations.park_name.unique()}\")\n",
    "\n",
    "# number of observations\n",
    "print(f\"There were a total of {df_observations.observations.sum()} observations recorded in the last 7 days.\")\n",
    "\n",
    "# lets see number of observations accross each park\n",
    "print(df_observations.groupby(\"park_name\").sum())"
   ]
  },
  {
   "cell_type": "markdown",
   "id": "3297d34f",
   "metadata": {},
   "source": [
    "### Analysis\n",
    "\n",
    "- What is the distribution of conservation status for species?\n",
    "\n",
    "\n",
    "Initially, we need to clean the conservation_status column. Luckily, since its NaN values aren't actually NaN, all we have to do is give them a name."
   ]
  },
  {
   "cell_type": "code",
   "execution_count": 10,
   "id": "b04014b3",
   "metadata": {},
   "outputs": [
    {
     "name": "stdout",
     "output_type": "stream",
     "text": [
      "conservation_status\n",
      "Endangered              16\n",
      "In Recovery              4\n",
      "No Concern            5633\n",
      "Species of Concern     161\n",
      "Threatened              10\n",
      "dtype: int64\n"
     ]
    }
   ],
   "source": [
    "df_species.conservation_status.fillna(\"No Concern\", inplace=True)\n",
    "print(df_species.groupby(\"conservation_status\").size())"
   ]
  },
  {
   "cell_type": "markdown",
   "id": "36d2a5be",
   "metadata": {},
   "source": [
    "Now let's see how each category is doing in terms of its conservation status. Are there specific categories significantly more at risk than other?"
   ]
  },
  {
   "cell_type": "code",
   "execution_count": 11,
   "id": "8edb000c",
   "metadata": {},
   "outputs": [
    {
     "name": "stdout",
     "output_type": "stream",
     "text": [
      "category             Amphibian  Bird  Fish  Mammal  Nonvascular Plant  \\\n",
      "conservation_status                                                     \n",
      "Endangered                 1.0   4.0   3.0     7.0                NaN   \n",
      "In Recovery                NaN   3.0   NaN     1.0                NaN   \n",
      "Species of Concern         4.0  72.0   4.0    28.0                5.0   \n",
      "Threatened                 2.0   NaN   4.0     2.0                NaN   \n",
      "\n",
      "category             Reptile  Vascular Plant  \n",
      "conservation_status                           \n",
      "Endangered               NaN             1.0  \n",
      "In Recovery              NaN             NaN  \n",
      "Species of Concern       5.0            43.0  \n",
      "Threatened               NaN             2.0  \n"
     ]
    }
   ],
   "source": [
    "categories_conservation_values = df_species[df_species.conservation_status != \"No Concern\"]\\\n",
    "                                    .groupby([\"conservation_status\", \"category\"])[\"scientific_name\"]\\\n",
    "                                    .count().unstack()\n",
    "\n",
    "print(categories_conservation_values)"
   ]
  },
  {
   "cell_type": "code",
   "execution_count": 12,
   "id": "682db00e",
   "metadata": {},
   "outputs": [
    {
     "data": {
      "image/png": "[encoded data removed]",
      "text/plain": [
       "<Figure size 576x432 with 1 Axes>"
      ]
     },
     "metadata": {
      "needs_background": "light"
     },
     "output_type": "display_data"
    }
   ],
   "source": [
    "# Visualising this distribution\n",
    "ax = categories_conservation_values.plot(kind = 'bar', figsize=(8, 6), \n",
    "                                         stacked = True)\n",
    "ax.set_xlabel(\"Conservation Status\")\n",
    "ax.set_ylabel(\"Number of Species\")\n",
    "ax.set_title(\"Distribution of Status accross Categories\");"
   ]
  },
  {
   "cell_type": "markdown",
   "id": "5b79d47e",
   "metadata": {},
   "source": [
    "- Are certain types of species more likely to be endangered?\n",
    "\n",
    "In order to see if different categories are indeed more likely to be endagered, we will need a new collumn called \"Concern\" which will aggregate all the different status that are not \"No Concern\". Then, we will see the percentage of total animals within each category, to see which one has the biggest percentage of animals as being of concern."
   ]
  },
  {
   "cell_type": "code",
   "execution_count": 13,
   "id": "3d911a31",
   "metadata": {},
   "outputs": [
    {
     "name": "stdout",
     "output_type": "stream",
     "text": [
      "            category  not_protected  protected  percentage\n",
      "0          Amphibian             72          7    8.860759\n",
      "1               Bird            413         75   15.368852\n",
      "2               Fish            115         11    8.730159\n",
      "3             Mammal            146         30   17.045455\n",
      "4  Nonvascular Plant            328          5    1.501502\n",
      "5            Reptile             73          5    6.410256\n",
      "6     Vascular Plant           4216         46    1.079305\n"
     ]
    }
   ],
   "source": [
    "df_species[\"concern\"] = df_species.conservation_status != \"No Concern\"\n",
    "category_counts = df_species.groupby([\"category\", \"concern\"])\\\n",
    "                    .scientific_name.nunique().reset_index()\\\n",
    "                    .pivot(columns='concern', index='category', \n",
    "                          values = 'scientific_name').reset_index()\n",
    "\n",
    "category_counts.columns = ['category', 'not_protected', 'protected']\n",
    "category_counts['percentage'] = category_counts.protected/ \\\n",
    "                                (category_counts.protected + category_counts.not_protected) \\\n",
    "                                * 100\n",
    "print(category_counts)"
   ]
  },
  {
   "cell_type": "markdown",
   "id": "ccbd4463",
   "metadata": {},
   "source": [
    "- Are the differences between species and their conservation status significant?\n",
    "\n",
    "In order to analyse the difference between different species we will be using Chi-Squared tests."
   ]
  },
  {
   "cell_type": "code",
   "execution_count": 14,
   "id": "fca9a05c",
   "metadata": {},
   "outputs": [
    {
     "name": "stdout",
     "output_type": "stream",
     "text": [
      "Chi-Squared for mammals and birds: (0.1617014831654557, 0.6875948096661336, 1, array([[ 27.8313253, 148.1686747],\n",
      "       [ 77.1686747, 410.8313253]]))\n",
      "Chi-Squared for mammals and reptiles: (4.289183096203645, 0.03835559022969898, 1, array([[ 24.2519685, 151.7480315],\n",
      "       [ 10.7480315,  67.2519685]]))\n",
      "Chi-Squared for mammals and fish: (3.647651024981415, 0.0561483484489001, 1, array([[ 23.89403974, 152.10596026],\n",
      "       [ 17.10596026, 108.89403974]]))\n",
      "Chi-Squared for mammals and amphibians: (2.321746712946015, 0.12757669693198975, 1, array([[ 25.5372549, 150.4627451],\n",
      "       [ 11.4627451,  67.5372549]]))\n",
      "Chi-Squared for mammals and Nonvascular Plants: (41.0526001992972, 1.481868915759314e-10, 1, array([[ 12.1021611, 163.8978389],\n",
      "       [ 22.8978389, 310.1021611]]))\n",
      "Chi-Squared for mammals and Vascular Plants: (246.5870424874456, 1.4405067309854046e-55, 1, array([[3.01397026e+00, 1.72986030e+02],\n",
      "       [7.29860297e+01, 4.18901397e+03]]))\n",
      "Chi-Squared for birds and reptiles: (3.7396547786854963, 0.05313542232154235, 1, array([[ 68.97526502, 419.02473498],\n",
      "       [ 11.02473498,  66.97526502]]))\n",
      "Chi-Squared for birds and fish: (3.1338596463736463, 0.07668199569057187, 1, array([[ 68.35179153, 419.64820847],\n",
      "       [ 17.64820847, 108.35179153]]))\n",
      "Chi-Squared for birds and amphibians: (1.831621580618698, 0.17593613249594683, 1, array([[ 70.57495591, 417.42504409],\n",
      "       [ 11.42504409,  67.57495591]]))\n",
      "Chi-Squared for birds and Nonvascular Plants: (41.717457869992714, 1.0546306904975004e-10, 1, array([[ 47.55176614, 440.44823386],\n",
      "       [ 32.44823386, 300.55176614]]))\n",
      "Chi-Squared for birds and Vascular Plants: (354.42332680820607, 4.612268031690142e-79, 1, array([[  12.43115789,  475.56884211],\n",
      "       [ 108.56884211, 4153.43115789]]))\n"
     ]
    }
   ],
   "source": [
    "from scipy.stats import chi2_contingency\n",
    "\n",
    "# is there a difference between mammals and birds?\n",
    "contengincy1 = [[30, 146],\n",
    "               [75, 413]]\n",
    "print(f\"Chi-Squared for mammals and birds: {chi2_contingency(contengincy1)}\") # p-value = 0.69 not significant\n",
    "\n",
    "# mammals and reptiles\n",
    "contengincy2 = [[30, 146],\n",
    "               [5, 73]]\n",
    "print(f\"Chi-Squared for mammals and reptiles: {chi2_contingency(contengincy2)}\") # p-value = 0.04 significant\n",
    "\n",
    "# mammals and fish\n",
    "contengincy3 = [[30, 146],\n",
    "               [11, 115]]\n",
    "print(f\"Chi-Squared for mammals and fish: {chi2_contingency(contengincy3)}\") # p-value = 0.06 non-signficant\n",
    "\n",
    "# mammals and amphibians\n",
    "contengincy4 = [[30, 146],\n",
    "               [7, 72]]\n",
    "print(f\"Chi-Squared for mammals and amphibians: {chi2_contingency(contengincy4)}\") # p-value = 0.13 non-significant\n",
    "\n",
    "# mammals and Nonvascular Plants\n",
    "contengincy8 = [[30, 146],\n",
    "               [5, 328]]\n",
    "print(f\"Chi-Squared for mammals and Nonvascular Plants: {chi2_contingency(contengincy8)}\") # p-value < 0.01 significant\n",
    "\n",
    "# mammals and Vascular Plants\n",
    "contengincy9 = [[30, 146],\n",
    "               [46, 4216]]\n",
    "print(f\"Chi-Squared for mammals and Vascular Plants: {chi2_contingency(contengincy9)}\") # p-value < 0.001 significant\n",
    "\n",
    "\n",
    "# birds and reptiles\n",
    "contengincy5 = [[75, 413],\n",
    "               [5, 73]]\n",
    "print(f\"Chi-Squared for birds and reptiles: {chi2_contingency(contengincy5)}\") # p-value = 0.05 significant\n",
    "\n",
    "# birds and fish\n",
    "contengincy6 = [[75, 413],\n",
    "               [11, 115]]\n",
    "print(f\"Chi-Squared for birds and fish: {chi2_contingency(contengincy6)}\") # p-value = 0.08 non-significant\n",
    "\n",
    "# birds and amphibians\n",
    "contengincy7 = [[75, 413],\n",
    "               [7, 72]]\n",
    "print(f\"Chi-Squared for birds and amphibians: {chi2_contingency(contengincy7)}\") # p-value = 0.17 non-significant\n",
    "\n",
    "# birds and Nonvascular Plants\n",
    "contengincy10 = [[75, 413],\n",
    "               [5, 328]]\n",
    "print(f\"Chi-Squared for birds and Nonvascular Plants: {chi2_contingency(contengincy10)}\") # p-value < 0.001 significant\n",
    "\n",
    "# birds and Vascular Plants\n",
    "contengincy11 = [[75, 413],\n",
    "               [46, 4216]]\n",
    "print(f\"Chi-Squared for birds and Vascular Plants: {chi2_contingency(contengincy11)}\") # p-value < 0.001 significant"
   ]
  },
  {
   "cell_type": "markdown",
   "id": "07835e4d",
   "metadata": {},
   "source": [
    "## Discussion\n",
    "\n",
    "\n",
    "The current project was done with the ultimate goal of informing decision-making in the National Parks Service with regard to what species need more protection from environmental pressures, so as to avoid extinction.\n",
    "\n",
    "With this in mind, the first question that was answered was \"What is the distribution of conservation status for species\". In answering this question, we were able to see that the most common conservation status among species was \"Species of Concern\", which had 161 species total. Overall, there were 5633 species that had no Conservation Status, deemed \"No Concern\" in this project, and 191 species that were highlighted with some form of Conservation Status. \n",
    "\n",
    "The next question addressed by this report was if there are certain types of species that are more likely to be endangered. We demonstrated how Birds and Mammals have a bigger percentage of their population than any other category. This was in contrast with the absolute numbers which had shown that Vascular Plants had the biggest number of species marked with some form of conservation status. \n",
    "\n",
    "In order to fully comprehend if there is a difference between Birds and Mammals and the rest of the species in the dataset, we ran a Chi-Squared statistical significant test between these two categories and the others. These tests demonstrated that there is no difference between Mammals and Birds as well as between these two and Fish and Amphibians. It did, however, demonstrate a significant difference between these two categories and Nonvascular Plants, Vascular Plants as well as Reptiles. "
   ]
  },
  {
   "cell_type": "markdown",
   "id": "648c96a2",
   "metadata": {},
   "source": [
    "## Future Research\n",
    "\n",
    "Future research could expand on the current report by including more data. Because the \"observations\" column only has data relevant to the last 7 days, some bias in the data is to be expected. As such, future research could use more expansive data, and perform analysis over the course of much longer periods of time, which would invariably give much more precise results. \n",
    "\n",
    "Further, the current observations dataset only had general information for each park, however, it is to be expected that different species perform better in different areas, something that the current report did not have access to. \n",
    "\n",
    "Finally, future research could attempt to explore how specific species of Mammals, Birds, Fish, and Amphibians are doing. This could only be done with a lot of upfront subject knowledge, that would inform which species to analyse first, so future research that attempts to do so would need collaboration with subject experts. "
   ]
  }
 ],
 "metadata": {
  "kernelspec": {
   "display_name": "Python 3 (ipykernel)",
   "language": "python",
   "name": "python3"
  },
  "language_info": {
   "codemirror_mode": {
    "name": "ipython",
    "version": 3
   },
   "file_extension": ".py",
   "mimetype": "text/x-python",
   "name": "python",
   "nbconvert_exporter": "python",
   "pygments_lexer": "ipython3",
   "version": "3.9.7"
  }
 },
 "nbformat": 4,
 "nbformat_minor": 5
}
